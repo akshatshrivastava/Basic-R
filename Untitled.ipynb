{
 "cells": [
  {
   "cell_type": "code",
   "execution_count": null,
   "metadata": {},
   "outputs": [],
   "source": [
    "function_name <- function(arg_1, arg_2, ...) {\n",
    "   Function body \n",
    "}"
   ]
  },
  {
   "cell_type": "code",
   "execution_count": 2,
   "metadata": {},
   "outputs": [
    {
     "name": "stdout",
     "output_type": "stream",
     "text": [
      "[1] 5\n"
     ]
    }
   ],
   "source": [
    "# Create a function to SUM UP TWO VARIABLES\n",
    "SUM <- function(a,b) {\n",
    "    c=a+b\n",
    "    print(c)    \n",
    "   }\n",
    "\n",
    "# Call the function new.function supplying \n",
    "#2 and 3 as an argument\n",
    "SUM(2,3)"
   ]
  },
  {
   "cell_type": "code",
   "execution_count": 3,
   "metadata": {},
   "outputs": [
    {
     "name": "stdout",
     "output_type": "stream",
     "text": [
      "[1] 5\n"
     ]
    }
   ],
   "source": [
    "SUM <- function(a,b) {\n",
    "    c=a+b\n",
    "    print(c)    \n",
    "   }\n",
    "\n",
    "# Call the function new.function supplying \n",
    "#2 and 3 as an argument\n",
    "SUM(a=2,b=3)      "
   ]
  },
  {
   "cell_type": "code",
   "execution_count": 7,
   "metadata": {},
   "outputs": [
    {
     "name": "stdout",
     "output_type": "stream",
     "text": [
      "[1] 25\n",
      "[1] 5\n"
     ]
    },
    {
     "ename": "ERROR",
     "evalue": "Error in print(Y): argument \"Y\" is missing, with no default\n",
     "output_type": "error",
     "traceback": [
      "Error in print(Y): argument \"Y\" is missing, with no default\nTraceback:\n",
      "1. SQUARE(5)",
      "2. print(Y)   # at line 6 of file <text>"
     ]
    }
   ],
   "source": [
    "\n",
    "# Create a function with arguments.\n",
    "SQUARE <- function(X, Y) {\n",
    "   print(X^2)\n",
    "   print(X)\n",
    "   print(Y)\n",
    "}\n",
    "\n",
    "# Evaluate the function without \n",
    "#supplying one of the arguments.\n",
    "SQUARE(5)                         "
   ]
  }
 ],
 "metadata": {
  "kernelspec": {
   "display_name": "R",
   "language": "R",
   "name": "ir"
  },
  "language_info": {
   "codemirror_mode": "r",
   "file_extension": ".r",
   "mimetype": "text/x-r-source",
   "name": "R",
   "pygments_lexer": "r",
   "version": "4.0.1"
  },
  "varInspector": {
   "cols": {
    "lenName": 16,
    "lenType": 16,
    "lenVar": 40
   },
   "kernels_config": {
    "python": {
     "delete_cmd_postfix": "",
     "delete_cmd_prefix": "del ",
     "library": "var_list.py",
     "varRefreshCmd": "print(var_dic_list())"
    },
    "r": {
     "delete_cmd_postfix": ") ",
     "delete_cmd_prefix": "rm(",
     "library": "var_list.r",
     "varRefreshCmd": "cat(var_dic_list()) "
    }
   },
   "types_to_exclude": [
    "module",
    "function",
    "builtin_function_or_method",
    "instance",
    "_Feature"
   ],
   "window_display": false
  }
 },
 "nbformat": 4,
 "nbformat_minor": 4
}
